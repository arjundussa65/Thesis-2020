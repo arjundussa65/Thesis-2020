{
  "nbformat": 4,
  "nbformat_minor": 0,
  "metadata": {
    "colab": {
      "name": "Polarity assignment.ipynb",
      "provenance": [],
      "collapsed_sections": [],
      "include_colab_link": true
    },
    "kernelspec": {
      "name": "python3",
      "display_name": "Python 3"
    }
  },
  "cells": [
    {
      "cell_type": "markdown",
      "metadata": {
        "id": "view-in-github",
        "colab_type": "text"
      },
      "source": [
        "<a href=\"https://colab.research.google.com/github/arjundussa65/Thesis-2020/blob/master/Polarity_assignment.ipynb\" target=\"_parent\"><img src=\"https://colab.research.google.com/assets/colab-badge.svg\" alt=\"Open In Colab\"/></a>"
      ]
    },
    {
      "cell_type": "markdown",
      "metadata": {
        "id": "C3asOFuGAzyL",
        "colab_type": "text"
      },
      "source": [
        "# Polarity Score assignment for tweet text"
      ]
    },
    {
      "cell_type": "markdown",
      "metadata": {
        "id": "3wPtcQH4B4UO",
        "colab_type": "text"
      },
      "source": [
        "This file contains polarity assignments using Vader and Textblob NLP libraries."
      ]
    },
    {
      "cell_type": "code",
      "metadata": {
        "id": "v0nRJdP0BO5A",
        "colab_type": "code",
        "colab": {
          "base_uri": "https://localhost:8080/",
          "height": 141
        },
        "outputId": "d1d5012d-e5ce-46b7-da7b-c956e4f81fe1"
      },
      "source": [
        "! pip install vaderSentiment                    # Install vaderSentiment for populate polarity for text\n"
      ],
      "execution_count": null,
      "outputs": [
        {
          "output_type": "stream",
          "text": [
            "Requirement already satisfied: vaderSentiment in /usr/local/lib/python3.6/dist-packages (3.3.2)\n",
            "Requirement already satisfied: requests in /usr/local/lib/python3.6/dist-packages (from vaderSentiment) (2.23.0)\n",
            "Requirement already satisfied: urllib3!=1.25.0,!=1.25.1,<1.26,>=1.21.1 in /usr/local/lib/python3.6/dist-packages (from requests->vaderSentiment) (1.24.3)\n",
            "Requirement already satisfied: idna<3,>=2.5 in /usr/local/lib/python3.6/dist-packages (from requests->vaderSentiment) (2.10)\n",
            "Requirement already satisfied: chardet<4,>=3.0.2 in /usr/local/lib/python3.6/dist-packages (from requests->vaderSentiment) (3.0.4)\n",
            "Requirement already satisfied: certifi>=2017.4.17 in /usr/local/lib/python3.6/dist-packages (from requests->vaderSentiment) (2020.6.20)\n"
          ],
          "name": "stdout"
        }
      ]
    },
    {
      "cell_type": "code",
      "metadata": {
        "id": "EkO8mrLqCKOD",
        "colab_type": "code",
        "colab": {
          "base_uri": "https://localhost:8080/",
          "height": 35
        },
        "outputId": "ffdf8619-141e-4c5c-8709-bc762ee22538"
      },
      "source": [
        "#Mount google drive\n",
        "from google.colab import drive\n",
        "drive.mount('/content/gdrive')"
      ],
      "execution_count": null,
      "outputs": [
        {
          "output_type": "stream",
          "text": [
            "Drive already mounted at /content/gdrive; to attempt to forcibly remount, call drive.mount(\"/content/gdrive\", force_remount=True).\n"
          ],
          "name": "stdout"
        }
      ]
    },
    {
      "cell_type": "code",
      "metadata": {
        "id": "XObrw4OoBjcO",
        "colab_type": "code",
        "colab": {}
      },
      "source": [
        "#Import libraries\n",
        "import pandas as pd\n",
        "import numpy as np \n",
        "from vaderSentiment.vaderSentiment import SentimentIntensityAnalyzer\n",
        "from textblob import TextBlob\n",
        "import matplotlib.pyplot as plt\n",
        "import seaborn as sns \n",
        "from plotly.offline import iplot"
      ],
      "execution_count": null,
      "outputs": []
    },
    {
      "cell_type": "code",
      "metadata": {
        "id": "8jKVrDjAB8JH",
        "colab_type": "code",
        "colab": {}
      },
      "source": [
        "#Read file from Google Drive\n",
        "df=pd.read_csv(\"/content/gdrive/My Drive/Colab Notebooks/covid_cleaned.csv\", encoding='utf-8')"
      ],
      "execution_count": null,
      "outputs": []
    },
    {
      "cell_type": "code",
      "metadata": {
        "id": "Je83YsdiDE99",
        "colab_type": "code",
        "colab": {
          "base_uri": "https://localhost:8080/",
          "height": 277
        },
        "outputId": "9a92648e-5dd1-4288-91e7-0cc0643ab866"
      },
      "source": [
        "df.info()"
      ],
      "execution_count": null,
      "outputs": [
        {
          "output_type": "stream",
          "text": [
            "<class 'pandas.core.frame.DataFrame'>\n",
            "RangeIndex: 19818 entries, 0 to 19817\n",
            "Data columns (total 8 columns):\n",
            " #   Column     Non-Null Count  Dtype  \n",
            "---  ------     --------------  -----  \n",
            " 0   User       19818 non-null  object \n",
            " 1   Text       19804 non-null  object \n",
            " 2   Date       19818 non-null  object \n",
            " 3   Favorites  19818 non-null  int64  \n",
            " 4   Retweets   19818 non-null  int64  \n",
            " 5   Mentions   4320 non-null   object \n",
            " 6   HashTags   19806 non-null  object \n",
            " 7   location   0 non-null      float64\n",
            "dtypes: float64(1), int64(2), object(5)\n",
            "memory usage: 1.2+ MB\n"
          ],
          "name": "stdout"
        }
      ]
    },
    {
      "cell_type": "code",
      "metadata": {
        "id": "UnopTHPUD6L0",
        "colab_type": "code",
        "colab": {}
      },
      "source": [
        "#Drop location column as it has no data\n",
        "df.drop(columns=['location'],axis=1,inplace=True)"
      ],
      "execution_count": null,
      "outputs": []
    },
    {
      "cell_type": "code",
      "metadata": {
        "id": "HuL7xTBBEskf",
        "colab_type": "code",
        "colab": {
          "base_uri": "https://localhost:8080/",
          "height": 260
        },
        "outputId": "d88642c9-1088-4658-c061-da94605d20de"
      },
      "source": [
        "df.dropna(subset=['Text'],inplace=True)  # Removed the Null values from Tweet_text column\n",
        "df.reset_index(drop=True,inplace=True)\n",
        "df.info()"
      ],
      "execution_count": null,
      "outputs": [
        {
          "output_type": "stream",
          "text": [
            "<class 'pandas.core.frame.DataFrame'>\n",
            "RangeIndex: 19804 entries, 0 to 19803\n",
            "Data columns (total 7 columns):\n",
            " #   Column     Non-Null Count  Dtype \n",
            "---  ------     --------------  ----- \n",
            " 0   User       19804 non-null  object\n",
            " 1   Text       19804 non-null  object\n",
            " 2   Date       19804 non-null  object\n",
            " 3   Favorites  19804 non-null  int64 \n",
            " 4   Retweets   19804 non-null  int64 \n",
            " 5   Mentions   4320 non-null   object\n",
            " 6   HashTags   19792 non-null  object\n",
            "dtypes: int64(2), object(5)\n",
            "memory usage: 1.1+ MB\n"
          ],
          "name": "stdout"
        }
      ]
    },
    {
      "cell_type": "code",
      "metadata": {
        "id": "nzV1RHxxsfhX",
        "colab_type": "code",
        "colab": {
          "base_uri": "https://localhost:8080/",
          "height": 289
        },
        "outputId": "ef928f35-aa75-41fa-ac84-fe58ae232b8a"
      },
      "source": [
        "df.head()"
      ],
      "execution_count": null,
      "outputs": [
        {
          "output_type": "execute_result",
          "data": {
            "text/html": [
              "<div>\n",
              "<style scoped>\n",
              "    .dataframe tbody tr th:only-of-type {\n",
              "        vertical-align: middle;\n",
              "    }\n",
              "\n",
              "    .dataframe tbody tr th {\n",
              "        vertical-align: top;\n",
              "    }\n",
              "\n",
              "    .dataframe thead th {\n",
              "        text-align: right;\n",
              "    }\n",
              "</style>\n",
              "<table border=\"1\" class=\"dataframe\">\n",
              "  <thead>\n",
              "    <tr style=\"text-align: right;\">\n",
              "      <th></th>\n",
              "      <th>User</th>\n",
              "      <th>Text</th>\n",
              "      <th>Date</th>\n",
              "      <th>Favorites</th>\n",
              "      <th>Retweets</th>\n",
              "      <th>Mentions</th>\n",
              "      <th>HashTags</th>\n",
              "    </tr>\n",
              "  </thead>\n",
              "  <tbody>\n",
              "    <tr>\n",
              "      <th>0</th>\n",
              "      <td>KendallHarmon6</td>\n",
              "      <td>stat news speed is critical as spreads in offi...</td>\n",
              "      <td>2020-03-01 23:59:17+00:00</td>\n",
              "      <td>0</td>\n",
              "      <td>0</td>\n",
              "      <td>NaN</td>\n",
              "      <td>#coronavirus #USA #economy #covid19 #globalisa...</td>\n",
              "    </tr>\n",
              "    <tr>\n",
              "      <th>1</th>\n",
              "      <td>Switzercomau</td>\n",
              "      <td>the first australian has now passed away from ...</td>\n",
              "      <td>2020-03-01 23:45:00+00:00</td>\n",
              "      <td>0</td>\n",
              "      <td>0</td>\n",
              "      <td>NaN</td>\n",
              "      <td>#australia #ausnews #breakingnews #worldnews #...</td>\n",
              "    </tr>\n",
              "    <tr>\n",
              "      <th>2</th>\n",
              "      <td>TushK11</td>\n",
              "      <td>new york magazine new coronavirus cases confir...</td>\n",
              "      <td>2020-03-01 23:41:02+00:00</td>\n",
              "      <td>0</td>\n",
              "      <td>0</td>\n",
              "      <td>@googlenews</td>\n",
              "      <td>#coronavirususa #StockMarket #COVID19 #stocks</td>\n",
              "    </tr>\n",
              "    <tr>\n",
              "      <th>3</th>\n",
              "      <td>StockDaddy0</td>\n",
              "      <td>still not at friday lows but we moving let s s...</td>\n",
              "      <td>2020-03-01 23:39:19+00:00</td>\n",
              "      <td>0</td>\n",
              "      <td>0</td>\n",
              "      <td>NaN</td>\n",
              "      <td>#DoctorWho #COVID #March1st #SundayThoughts #C...</td>\n",
              "    </tr>\n",
              "    <tr>\n",
              "      <th>4</th>\n",
              "      <td>murtdoc</td>\n",
              "      <td>things look bleak for oil barrel seems an easy...</td>\n",
              "      <td>2020-03-01 23:38:43+00:00</td>\n",
              "      <td>0</td>\n",
              "      <td>0</td>\n",
              "      <td>NaN</td>\n",
              "      <td>#Oil #stock #COVID19 #financialcrush2020</td>\n",
              "    </tr>\n",
              "  </tbody>\n",
              "</table>\n",
              "</div>"
            ],
            "text/plain": [
              "             User  ...                                           HashTags\n",
              "0  KendallHarmon6  ...  #coronavirus #USA #economy #covid19 #globalisa...\n",
              "1    Switzercomau  ...  #australia #ausnews #breakingnews #worldnews #...\n",
              "2         TushK11  ...      #coronavirususa #StockMarket #COVID19 #stocks\n",
              "3     StockDaddy0  ...  #DoctorWho #COVID #March1st #SundayThoughts #C...\n",
              "4         murtdoc  ...           #Oil #stock #COVID19 #financialcrush2020\n",
              "\n",
              "[5 rows x 7 columns]"
            ]
          },
          "metadata": {
            "tags": []
          },
          "execution_count": 51
        }
      ]
    },
    {
      "cell_type": "markdown",
      "metadata": {
        "id": "PZP3PTWYBL6C",
        "colab_type": "text"
      },
      "source": [
        "## Vader Polarity"
      ]
    },
    {
      "cell_type": "code",
      "metadata": {
        "id": "CZpc2ZFcBXiM",
        "colab_type": "code",
        "colab": {}
      },
      "source": [
        "analyzer = SentimentIntensityAnalyzer()                           # getting sentiment polarity using Vader library from Tweet_Text on compound \n",
        "sentiment = df['Text'].apply(lambda x: analyzer.polarity_scores(x))\n",
        "df = pd.concat([df,sentiment.apply(pd.Series)],1)\n",
        "df = df.rename(columns={'compound':'vader_polarity'})"
      ],
      "execution_count": null,
      "outputs": []
    },
    {
      "cell_type": "code",
      "metadata": {
        "id": "p5SvbYNwCsni",
        "colab_type": "code",
        "colab": {
          "base_uri": "https://localhost:8080/",
          "height": 335
        },
        "outputId": "da622b2a-7012-419a-cf07-79a0510ba148"
      },
      "source": [
        "#Histogram plot of vader sentiment scores\n",
        "fig = plt.figure(figsize=(10,5))    \n",
        "ax = fig.add_subplot(111)\n",
        "sns.distplot(df['vader_polarity'], bins=15, ax=ax)     # Plot histogram plot to know distribution of sentiment \n",
        "plt.show()"
      ],
      "execution_count": null,
      "outputs": [
        {
          "output_type": "display_data",
          "data": {
            "image/png": "[encoded data removed]",
            "text/plain": [
              "<Figure size 720x360 with 1 Axes>"
            ]
          },
          "metadata": {
            "tags": [],
            "needs_background": "light"
          }
        }
      ]
    },
    {
      "cell_type": "markdown",
      "metadata": {
        "id": "g7crcqsRBVCu",
        "colab_type": "text"
      },
      "source": [
        "## Textblob polarity"
      ]
    },
    {
      "cell_type": "code",
      "metadata": {
        "id": "56g19TBVFgto",
        "colab_type": "code",
        "colab": {
          "base_uri": "https://localhost:8080/",
          "height": 583
        },
        "outputId": "fe040426-a485-4781-e128-c40347c9bf37"
      },
      "source": [
        "#Add Polarity based on TextBlob \n",
        "df['Textblob_Polarity'] = df['Text'].map(lambda text: TextBlob(text).sentiment.polarity)\n",
        "df.head()"
      ],
      "execution_count": null,
      "outputs": [
        {
          "output_type": "execute_result",
          "data": {
            "text/html": [
              "<div>\n",
              "<style scoped>\n",
              "    .dataframe tbody tr th:only-of-type {\n",
              "        vertical-align: middle;\n",
              "    }\n",
              "\n",
              "    .dataframe tbody tr th {\n",
              "        vertical-align: top;\n",
              "    }\n",
              "\n",
              "    .dataframe thead th {\n",
              "        text-align: right;\n",
              "    }\n",
              "</style>\n",
              "<table border=\"1\" class=\"dataframe\">\n",
              "  <thead>\n",
              "    <tr style=\"text-align: right;\">\n",
              "      <th></th>\n",
              "      <th>User</th>\n",
              "      <th>Text</th>\n",
              "      <th>Date</th>\n",
              "      <th>Favorites</th>\n",
              "      <th>Retweets</th>\n",
              "      <th>Mentions</th>\n",
              "      <th>HashTags</th>\n",
              "      <th>neg</th>\n",
              "      <th>neu</th>\n",
              "      <th>pos</th>\n",
              "      <th>vader_polarity</th>\n",
              "      <th>Textblob_Polarity</th>\n",
              "    </tr>\n",
              "  </thead>\n",
              "  <tbody>\n",
              "    <tr>\n",
              "      <th>0</th>\n",
              "      <td>KendallHarmon6</td>\n",
              "      <td>stat news speed is critical as spreads in offi...</td>\n",
              "      <td>2020-03-01 23:59:17+00:00</td>\n",
              "      <td>0</td>\n",
              "      <td>0</td>\n",
              "      <td>NaN</td>\n",
              "      <td>#coronavirus #USA #economy #covid19 #globalisa...</td>\n",
              "      <td>0.150</td>\n",
              "      <td>0.850</td>\n",
              "      <td>0.000</td>\n",
              "      <td>-0.3182</td>\n",
              "      <td>0.000000</td>\n",
              "    </tr>\n",
              "    <tr>\n",
              "      <th>1</th>\n",
              "      <td>Switzercomau</td>\n",
              "      <td>the first australian has now passed away from ...</td>\n",
              "      <td>2020-03-01 23:45:00+00:00</td>\n",
              "      <td>0</td>\n",
              "      <td>0</td>\n",
              "      <td>NaN</td>\n",
              "      <td>#australia #ausnews #breakingnews #worldnews #...</td>\n",
              "      <td>0.000</td>\n",
              "      <td>1.000</td>\n",
              "      <td>0.000</td>\n",
              "      <td>0.0000</td>\n",
              "      <td>0.250000</td>\n",
              "    </tr>\n",
              "    <tr>\n",
              "      <th>2</th>\n",
              "      <td>TushK11</td>\n",
              "      <td>new york magazine new coronavirus cases confir...</td>\n",
              "      <td>2020-03-01 23:41:02+00:00</td>\n",
              "      <td>0</td>\n",
              "      <td>0</td>\n",
              "      <td>@googlenews</td>\n",
              "      <td>#coronavirususa #StockMarket #COVID19 #stocks</td>\n",
              "      <td>0.103</td>\n",
              "      <td>0.897</td>\n",
              "      <td>0.000</td>\n",
              "      <td>-0.3412</td>\n",
              "      <td>0.080682</td>\n",
              "    </tr>\n",
              "    <tr>\n",
              "      <th>3</th>\n",
              "      <td>StockDaddy0</td>\n",
              "      <td>still not at friday lows but we moving let s s...</td>\n",
              "      <td>2020-03-01 23:39:19+00:00</td>\n",
              "      <td>0</td>\n",
              "      <td>0</td>\n",
              "      <td>NaN</td>\n",
              "      <td>#DoctorWho #COVID #March1st #SundayThoughts #C...</td>\n",
              "      <td>0.127</td>\n",
              "      <td>0.812</td>\n",
              "      <td>0.062</td>\n",
              "      <td>-0.3300</td>\n",
              "      <td>0.000000</td>\n",
              "    </tr>\n",
              "    <tr>\n",
              "      <th>4</th>\n",
              "      <td>murtdoc</td>\n",
              "      <td>things look bleak for oil barrel seems an easy...</td>\n",
              "      <td>2020-03-01 23:38:43+00:00</td>\n",
              "      <td>0</td>\n",
              "      <td>0</td>\n",
              "      <td>NaN</td>\n",
              "      <td>#Oil #stock #COVID19 #financialcrush2020</td>\n",
              "      <td>0.106</td>\n",
              "      <td>0.763</td>\n",
              "      <td>0.131</td>\n",
              "      <td>-0.0258</td>\n",
              "      <td>-0.088889</td>\n",
              "    </tr>\n",
              "  </tbody>\n",
              "</table>\n",
              "</div>"
            ],
            "text/plain": [
              "             User  ... Textblob_Polarity\n",
              "0  KendallHarmon6  ...          0.000000\n",
              "1    Switzercomau  ...          0.250000\n",
              "2         TushK11  ...          0.080682\n",
              "3     StockDaddy0  ...          0.000000\n",
              "4         murtdoc  ...         -0.088889\n",
              "\n",
              "[5 rows x 12 columns]"
            ]
          },
          "metadata": {
            "tags": []
          },
          "execution_count": 54
        }
      ]
    },
    {
      "cell_type": "code",
      "metadata": {
        "id": "sSPVvnLZGDXo",
        "colab_type": "code",
        "colab": {
          "base_uri": "https://localhost:8080/",
          "height": 335
        },
        "outputId": "817e6ed1-8b01-40bd-c4cb-19351816273a"
      },
      "source": [
        "# Histogram plot for TextBlob Ploarity score \n",
        "\n",
        "fig = plt.figure(figsize=(10,5))    \n",
        "ax = fig.add_subplot(111)\n",
        "sns.distplot(df['Textblob_Polarity'], bins=15, ax=ax)     # Plot histogram plot to know distribution of sentiment \n",
        "plt.show()"
      ],
      "execution_count": null,
      "outputs": [
        {
          "output_type": "display_data",
          "data": {
            "image/png": "[encoded data removed]",
            "text/plain": [
              "<Figure size 720x360 with 1 Axes>"
            ]
          },
          "metadata": {
            "tags": [],
            "needs_background": "light"
          }
        }
      ]
    },
    {
      "cell_type": "markdown",
      "metadata": {
        "id": "OvkbtLx4BZw1",
        "colab_type": "text"
      },
      "source": [
        "## Histogram plot of Vader and Texblob polarity scores"
      ]
    },
    {
      "cell_type": "code",
      "metadata": {
        "id": "hNvyAhvLGnSn",
        "colab_type": "code",
        "colab": {
          "base_uri": "https://localhost:8080/",
          "height": 297
        },
        "outputId": "b39c2c49-fc56-475a-f067-345da5900866"
      },
      "source": [
        "sns.kdeplot(df['vader_polarity'], \n",
        "            color='r', shade=True, Label='Vader') \n",
        "\n",
        "sns.kdeplot(df['Textblob_Polarity'], \n",
        "            color='b', shade=True, Label='TextBlob')\n",
        "  \n",
        "plt.xlabel('Sentiments') \n",
        "plt.ylabel('Probability Density') "
      ],
      "execution_count": null,
      "outputs": [
        {
          "output_type": "execute_result",
          "data": {
            "text/plain": [
              "Text(0, 0.5, 'Probability Density')"
            ]
          },
          "metadata": {
            "tags": []
          },
          "execution_count": 56
        },
        {
          "output_type": "display_data",
          "data": {
            "image/png": "[encoded data removed]",
            "text/plain": [
              "<Figure size 432x288 with 1 Axes>"
            ]
          },
          "metadata": {
            "tags": [],
            "needs_background": "light"
          }
        }
      ]
    },
    {
      "cell_type": "markdown",
      "metadata": {
        "id": "FOh6Q-neBkOn",
        "colab_type": "text"
      },
      "source": [
        "After checking the distribution for both the polarity scores, Vader has given more uniform distribution than Texblob scores. Hence assigning labels as per vader scores for the tweets"
      ]
    },
    {
      "cell_type": "code",
      "metadata": {
        "id": "WrX-O1SfHuPw",
        "colab_type": "code",
        "colab": {
          "base_uri": "https://localhost:8080/",
          "height": 355
        },
        "outputId": "3c2c0e76-9e92-4aa5-d8c3-3cbb67ee7e43"
      },
      "source": [
        "# Create New Column Num_Sentiment based on Polarity Score\n",
        "cut = pd.cut(\n",
        "    df['vader_polarity'],\n",
        "    [-np.inf, -.2, .2, np.inf],\n",
        "    labels=[-1, 0, 1]\n",
        ")\n",
        "df['Num_Sentiment'] = cut.values\n",
        "df[['Num_Sentiment','vader_polarity']][:10]"
      ],
      "execution_count": null,
      "outputs": [
        {
          "output_type": "execute_result",
          "data": {
            "text/html": [
              "<div>\n",
              "<style scoped>\n",
              "    .dataframe tbody tr th:only-of-type {\n",
              "        vertical-align: middle;\n",
              "    }\n",
              "\n",
              "    .dataframe tbody tr th {\n",
              "        vertical-align: top;\n",
              "    }\n",
              "\n",
              "    .dataframe thead th {\n",
              "        text-align: right;\n",
              "    }\n",
              "</style>\n",
              "<table border=\"1\" class=\"dataframe\">\n",
              "  <thead>\n",
              "    <tr style=\"text-align: right;\">\n",
              "      <th></th>\n",
              "      <th>Num_Sentiment</th>\n",
              "      <th>vader_polarity</th>\n",
              "    </tr>\n",
              "  </thead>\n",
              "  <tbody>\n",
              "    <tr>\n",
              "      <th>0</th>\n",
              "      <td>-1</td>\n",
              "      <td>-0.3182</td>\n",
              "    </tr>\n",
              "    <tr>\n",
              "      <th>1</th>\n",
              "      <td>0</td>\n",
              "      <td>0.0000</td>\n",
              "    </tr>\n",
              "    <tr>\n",
              "      <th>2</th>\n",
              "      <td>-1</td>\n",
              "      <td>-0.3412</td>\n",
              "    </tr>\n",
              "    <tr>\n",
              "      <th>3</th>\n",
              "      <td>-1</td>\n",
              "      <td>-0.3300</td>\n",
              "    </tr>\n",
              "    <tr>\n",
              "      <th>4</th>\n",
              "      <td>0</td>\n",
              "      <td>-0.0258</td>\n",
              "    </tr>\n",
              "    <tr>\n",
              "      <th>5</th>\n",
              "      <td>0</td>\n",
              "      <td>0.0000</td>\n",
              "    </tr>\n",
              "    <tr>\n",
              "      <th>6</th>\n",
              "      <td>-1</td>\n",
              "      <td>-0.3400</td>\n",
              "    </tr>\n",
              "    <tr>\n",
              "      <th>7</th>\n",
              "      <td>1</td>\n",
              "      <td>0.2500</td>\n",
              "    </tr>\n",
              "    <tr>\n",
              "      <th>8</th>\n",
              "      <td>0</td>\n",
              "      <td>0.1531</td>\n",
              "    </tr>\n",
              "    <tr>\n",
              "      <th>9</th>\n",
              "      <td>0</td>\n",
              "      <td>0.0000</td>\n",
              "    </tr>\n",
              "  </tbody>\n",
              "</table>\n",
              "</div>"
            ],
            "text/plain": [
              "  Num_Sentiment  vader_polarity\n",
              "0            -1         -0.3182\n",
              "1             0          0.0000\n",
              "2            -1         -0.3412\n",
              "3            -1         -0.3300\n",
              "4             0         -0.0258\n",
              "5             0          0.0000\n",
              "6            -1         -0.3400\n",
              "7             1          0.2500\n",
              "8             0          0.1531\n",
              "9             0          0.0000"
            ]
          },
          "metadata": {
            "tags": []
          },
          "execution_count": 57
        }
      ]
    },
    {
      "cell_type": "code",
      "metadata": {
        "id": "Njh9kFncqdtC",
        "colab_type": "code",
        "colab": {
          "base_uri": "https://localhost:8080/",
          "height": 102
        },
        "outputId": "d5451420-338e-4173-e683-f45bdd0892d6"
      },
      "source": [
        "temp = df.groupby('Num_Sentiment').count()['Text'].reset_index().sort_values(by='Text',ascending=False)  # get the count of each sentiment\n",
        "temp.style.background_gradient(cmap='Purples')"
      ],
      "execution_count": null,
      "outputs": [
        {
          "output_type": "execute_result",
          "data": {
            "text/html": [
              "<style  type=\"text/css\" >\n",
              "    #T_d7467972_d5bb_11ea_9515_0242ac1c0002row0_col1 {\n",
              "            background-color:  #3f007d;\n",
              "            color:  #f1f1f1;\n",
              "        }    #T_d7467972_d5bb_11ea_9515_0242ac1c0002row1_col1 {\n",
              "            background-color:  #5d3897;\n",
              "            color:  #f1f1f1;\n",
              "        }    #T_d7467972_d5bb_11ea_9515_0242ac1c0002row2_col1 {\n",
              "            background-color:  #fcfbfd;\n",
              "            color:  #000000;\n",
              "        }</style><table id=\"T_d7467972_d5bb_11ea_9515_0242ac1c0002\" ><thead>    <tr>        <th class=\"blank level0\" ></th>        <th class=\"col_heading level0 col0\" >Num_Sentiment</th>        <th class=\"col_heading level0 col1\" >Text</th>    </tr></thead><tbody>\n",
              "                <tr>\n",
              "                        <th id=\"T_d7467972_d5bb_11ea_9515_0242ac1c0002level0_row0\" class=\"row_heading level0 row0\" >1</th>\n",
              "                        <td id=\"T_d7467972_d5bb_11ea_9515_0242ac1c0002row0_col0\" class=\"data row0 col0\" >0</td>\n",
              "                        <td id=\"T_d7467972_d5bb_11ea_9515_0242ac1c0002row0_col1\" class=\"data row0 col1\" >8414</td>\n",
              "            </tr>\n",
              "            <tr>\n",
              "                        <th id=\"T_d7467972_d5bb_11ea_9515_0242ac1c0002level0_row1\" class=\"row_heading level0 row1\" >2</th>\n",
              "                        <td id=\"T_d7467972_d5bb_11ea_9515_0242ac1c0002row1_col0\" class=\"data row1 col0\" >1</td>\n",
              "                        <td id=\"T_d7467972_d5bb_11ea_9515_0242ac1c0002row1_col1\" class=\"data row1 col1\" >7591</td>\n",
              "            </tr>\n",
              "            <tr>\n",
              "                        <th id=\"T_d7467972_d5bb_11ea_9515_0242ac1c0002level0_row2\" class=\"row_heading level0 row2\" >0</th>\n",
              "                        <td id=\"T_d7467972_d5bb_11ea_9515_0242ac1c0002row2_col0\" class=\"data row2 col0\" >-1</td>\n",
              "                        <td id=\"T_d7467972_d5bb_11ea_9515_0242ac1c0002row2_col1\" class=\"data row2 col1\" >3799</td>\n",
              "            </tr>\n",
              "    </tbody></table>"
            ],
            "text/plain": [
              "<pandas.io.formats.style.Styler at 0x7f6283c306d8>"
            ]
          },
          "metadata": {
            "tags": []
          },
          "execution_count": 58
        }
      ]
    },
    {
      "cell_type": "code",
      "metadata": {
        "id": "uJvuq0Xipz44",
        "colab_type": "code",
        "colab": {}
      },
      "source": [
        "#Saving labelled tweets file to google drive\n",
        "df.to_csv(\"/content/gdrive/My Drive/Colab Notebooks/covid_labelled.csv\", index=None, encoding='utf-8')"
      ],
      "execution_count": null,
      "outputs": []
    }
  ]
}