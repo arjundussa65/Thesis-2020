{
  "nbformat": 4,
  "nbformat_minor": 0,
  "metadata": {
    "colab": {
      "name": "Dataset_creation.ipynb",
      "provenance": [],
      "collapsed_sections": [],
      "include_colab_link": true
    },
    "kernelspec": {
      "name": "python3",
      "display_name": "Python 3"
    }
  },
  "cells": [
    {
      "cell_type": "markdown",
      "metadata": {
        "id": "view-in-github",
        "colab_type": "text"
      },
      "source": [
        "<a href=\"https://colab.research.google.com/github/arjundussa65/Thesis-2020/blob/master/Dataset_creation.ipynb\" target=\"_parent\"><img src=\"https://colab.research.google.com/assets/colab-badge.svg\" alt=\"Open In Colab\"/></a>"
      ]
    },
    {
      "cell_type": "markdown",
      "metadata": {
        "id": "uHiATQY85Jd9",
        "colab_type": "text"
      },
      "source": [
        "# Dataset Creation"
      ]
    },
    {
      "cell_type": "markdown",
      "metadata": {
        "id": "cJK_Uid75Ptg",
        "colab_type": "text"
      },
      "source": [
        "As our data is in multiple files, creating the dataset from files. Also to filtering the data with industry hashtags as we are looking for the data related to targeted industries."
      ]
    },
    {
      "cell_type": "code",
      "metadata": {
        "id": "98auRM-anDbK",
        "colab_type": "code",
        "colab": {
          "base_uri": "https://localhost:8080/",
          "height": 124
        },
        "outputId": "eccd9913-e0c0-4e0e-8b85-b228f6f8bdfc"
      },
      "source": [
        "#Mount google drive\n",
        "from google.colab import drive\n",
        "drive.mount('/content/gdrive')"
      ],
      "execution_count": null,
      "outputs": [
        {
          "output_type": "stream",
          "text": [
            "Go to this URL in a browser: https://accounts.google.com/o/oauth2/auth?client_id=947318989803-6bn6qk8qdgf4n4g3pfee6491hc0brc4i.apps.googleusercontent.com&redirect_uri=urn%3aietf%3awg%3aoauth%3a2.0%3aoob&response_type=code&scope=email%20https%3a%2f%2fwww.googleapis.com%2fauth%2fdocs.test%20https%3a%2f%2fwww.googleapis.com%2fauth%2fdrive%20https%3a%2f%2fwww.googleapis.com%2fauth%2fdrive.photos.readonly%20https%3a%2f%2fwww.googleapis.com%2fauth%2fpeopleapi.readonly\n",
            "\n",
            "Enter your authorization code:\n",
            "··········\n",
            "Mounted at /content/gdrive\n"
          ],
          "name": "stdout"
        }
      ]
    },
    {
      "cell_type": "code",
      "metadata": {
        "id": "cZS6eW0ZnKGM",
        "colab_type": "code",
        "colab": {}
      },
      "source": [
        "#Import libraries\n",
        "import pandas as pd\n",
        "import glob"
      ],
      "execution_count": null,
      "outputs": []
    },
    {
      "cell_type": "code",
      "metadata": {
        "id": "2LaS_AcunaAB",
        "colab_type": "code",
        "colab": {}
      },
      "source": [
        "#Glob to read multiple files\n",
        "path = r'/content/gdrive/My Drive/Colab Notebooks/twitter' # use your path\n",
        "files = glob.glob(path + \"/*.csv\")"
      ],
      "execution_count": null,
      "outputs": []
    },
    {
      "cell_type": "code",
      "metadata": {
        "id": "BRkurBTjou1b",
        "colab_type": "code",
        "colab": {
          "base_uri": "https://localhost:8080/",
          "height": 156
        },
        "outputId": "c02519d7-74b9-47d6-cb52-58a1d97ba63f"
      },
      "source": [
        "files"
      ],
      "execution_count": null,
      "outputs": [
        {
          "output_type": "execute_result",
          "data": {
            "text/plain": [
              "['/content/gdrive/My Drive/Colab Notebooks/twitter/test.csv',\n",
              " '/content/gdrive/My Drive/Colab Notebooks/twitter/stayhome.csv',\n",
              " '/content/gdrive/My Drive/Colab Notebooks/twitter/test1.csv',\n",
              " '/content/gdrive/My Drive/Colab Notebooks/twitter/apr.csv',\n",
              " '/content/gdrive/My Drive/Colab Notebooks/twitter/may.csv',\n",
              " '/content/gdrive/My Drive/Colab Notebooks/twitter/jun.csv',\n",
              " '/content/gdrive/My Drive/Colab Notebooks/twitter/jan.csv',\n",
              " '/content/gdrive/My Drive/Colab Notebooks/twitter/feb.csv']"
            ]
          },
          "metadata": {
            "tags": []
          },
          "execution_count": 4
        }
      ]
    },
    {
      "cell_type": "code",
      "metadata": {
        "id": "6wnSNKsFowBe",
        "colab_type": "code",
        "colab": {}
      },
      "source": [
        "#Define dataframe and iterate through files to append data to the dataframe\n",
        "df=pd.DataFrame()\n",
        "for f in files:\n",
        "  df=df.append(pd.read_csv(f,index_col=None))\n"
      ],
      "execution_count": null,
      "outputs": []
    },
    {
      "cell_type": "code",
      "metadata": {
        "id": "hPhe2fX5pf0C",
        "colab_type": "code",
        "colab": {
          "base_uri": "https://localhost:8080/",
          "height": 35
        },
        "outputId": "64c479e9-2655-4887-f3c3-8c53d42be7bf"
      },
      "source": [
        "len(df)"
      ],
      "execution_count": null,
      "outputs": [
        {
          "output_type": "execute_result",
          "data": {
            "text/plain": [
              "871176"
            ]
          },
          "metadata": {
            "tags": []
          },
          "execution_count": 10
        }
      ]
    },
    {
      "cell_type": "code",
      "metadata": {
        "id": "wuEfwGbUpkDT",
        "colab_type": "code",
        "colab": {
          "base_uri": "https://localhost:8080/",
          "height": 589
        },
        "outputId": "22df2437-c015-4b0c-fadf-92b507c187f7"
      },
      "source": [
        "#Drop location column as it doesn't contain any data\n",
        "df.drop('location',axis=1)"
      ],
      "execution_count": null,
      "outputs": [
        {
          "output_type": "execute_result",
          "data": {
            "text/html": [
              "<div>\n",
              "<style scoped>\n",
              "    .dataframe tbody tr th:only-of-type {\n",
              "        vertical-align: middle;\n",
              "    }\n",
              "\n",
              "    .dataframe tbody tr th {\n",
              "        vertical-align: top;\n",
              "    }\n",
              "\n",
              "    .dataframe thead th {\n",
              "        text-align: right;\n",
              "    }\n",
              "</style>\n",
              "<table border=\"1\" class=\"dataframe\">\n",
              "  <thead>\n",
              "    <tr style=\"text-align: right;\">\n",
              "      <th></th>\n",
              "      <th>User</th>\n",
              "      <th>Text</th>\n",
              "      <th>Date</th>\n",
              "      <th>Favorites</th>\n",
              "      <th>Retweets</th>\n",
              "      <th>Mentions</th>\n",
              "      <th>HashTags</th>\n",
              "    </tr>\n",
              "  </thead>\n",
              "  <tbody>\n",
              "    <tr>\n",
              "      <th>0</th>\n",
              "      <td>nushyrose</td>\n",
              "      <td>https://parlia.com/c/gdkwzJBdgWGJHnvdnhpHZPgDl...</td>\n",
              "      <td>2020-03-01 23:59:51+00:00</td>\n",
              "      <td>0</td>\n",
              "      <td>0</td>\n",
              "      <td>NaN</td>\n",
              "      <td>#COVID19</td>\n",
              "    </tr>\n",
              "    <tr>\n",
              "      <th>1</th>\n",
              "      <td>NightwatchCapt4</td>\n",
              "      <td>Shameful @Airbnb does not consider #COVID19 an...</td>\n",
              "      <td>2020-03-01 23:59:49+00:00</td>\n",
              "      <td>0</td>\n",
              "      <td>2</td>\n",
              "      <td>@Airbnb @CDCgov</td>\n",
              "      <td>#COVID19</td>\n",
              "    </tr>\n",
              "    <tr>\n",
              "      <th>2</th>\n",
              "      <td>gojomo</td>\n",
              "      <td>approximately as effective for #COVID19 as for...</td>\n",
              "      <td>2020-03-01 23:59:45+00:00</td>\n",
              "      <td>0</td>\n",
              "      <td>0</td>\n",
              "      <td>NaN</td>\n",
              "      <td>#COVID19</td>\n",
              "    </tr>\n",
              "    <tr>\n",
              "      <th>3</th>\n",
              "      <td>hapennyplace</td>\n",
              "      <td>Can we all just not send the kids to school fo...</td>\n",
              "      <td>2020-03-01 23:59:42+00:00</td>\n",
              "      <td>0</td>\n",
              "      <td>2</td>\n",
              "      <td>@HSELive</td>\n",
              "      <td>#Coronavirusireland #COVID19</td>\n",
              "    </tr>\n",
              "    <tr>\n",
              "      <th>4</th>\n",
              "      <td>nogenderid</td>\n",
              "      <td>It's been reported that Ontario has begun surv...</td>\n",
              "      <td>2020-03-01 23:59:42+00:00</td>\n",
              "      <td>0</td>\n",
              "      <td>3</td>\n",
              "      <td>NaN</td>\n",
              "      <td>#coronavirus #covid19</td>\n",
              "    </tr>\n",
              "    <tr>\n",
              "      <th>...</th>\n",
              "      <td>...</td>\n",
              "      <td>...</td>\n",
              "      <td>...</td>\n",
              "      <td>...</td>\n",
              "      <td>...</td>\n",
              "      <td>...</td>\n",
              "      <td>...</td>\n",
              "    </tr>\n",
              "    <tr>\n",
              "      <th>113607</th>\n",
              "      <td>patty_blind</td>\n",
              "      <td>1/2..pneumonia can be from viral or bacterial ...</td>\n",
              "      <td>2020-02-29 23:16:44+00:00</td>\n",
              "      <td>0</td>\n",
              "      <td>0</td>\n",
              "      <td>NaN</td>\n",
              "      <td>NaN</td>\n",
              "    </tr>\n",
              "    <tr>\n",
              "      <th>113608</th>\n",
              "      <td>cathymoore2</td>\n",
              "      <td>\"It is a sad day in our state as we learn that...</td>\n",
              "      <td>2020-02-29 23:16:40+00:00</td>\n",
              "      <td>0</td>\n",
              "      <td>0</td>\n",
              "      <td>NaN</td>\n",
              "      <td>NaN</td>\n",
              "    </tr>\n",
              "    <tr>\n",
              "      <th>113609</th>\n",
              "      <td>NewsThaivisa</td>\n",
              "      <td>Sales of face masks could double to hit Bt20 b...</td>\n",
              "      <td>2020-02-29 23:16:40+00:00</td>\n",
              "      <td>0</td>\n",
              "      <td>0</td>\n",
              "      <td>NaN</td>\n",
              "      <td>NaN</td>\n",
              "    </tr>\n",
              "    <tr>\n",
              "      <th>113610</th>\n",
              "      <td>coreysdavis</td>\n",
              "      <td>(harm reduction tweet, not covid-19 tweet)</td>\n",
              "      <td>2020-02-29 23:16:38+00:00</td>\n",
              "      <td>0</td>\n",
              "      <td>2</td>\n",
              "      <td>NaN</td>\n",
              "      <td>NaN</td>\n",
              "    </tr>\n",
              "    <tr>\n",
              "      <th>113611</th>\n",
              "      <td>MaggieJordanACN</td>\n",
              "      <td>Trump downplayed the potential global scope &amp; ...</td>\n",
              "      <td>2020-02-29 23:16:35+00:00</td>\n",
              "      <td>2</td>\n",
              "      <td>3</td>\n",
              "      <td>NaN</td>\n",
              "      <td>NaN</td>\n",
              "    </tr>\n",
              "  </tbody>\n",
              "</table>\n",
              "<p>871176 rows × 7 columns</p>\n",
              "</div>"
            ],
            "text/plain": [
              "                   User  ...                      HashTags\n",
              "0             nushyrose  ...                      #COVID19\n",
              "1       NightwatchCapt4  ...                      #COVID19\n",
              "2                gojomo  ...                      #COVID19\n",
              "3          hapennyplace  ...  #Coronavirusireland #COVID19\n",
              "4            nogenderid  ...         #coronavirus #covid19\n",
              "...                 ...  ...                           ...\n",
              "113607      patty_blind  ...                           NaN\n",
              "113608      cathymoore2  ...                           NaN\n",
              "113609     NewsThaivisa  ...                           NaN\n",
              "113610      coreysdavis  ...                           NaN\n",
              "113611  MaggieJordanACN  ...                           NaN\n",
              "\n",
              "[871176 rows x 7 columns]"
            ]
          },
          "metadata": {
            "tags": []
          },
          "execution_count": 11
        }
      ]
    },
    {
      "cell_type": "code",
      "metadata": {
        "id": "KgrtcCC9pzLl",
        "colab_type": "code",
        "colab": {}
      },
      "source": [
        "#Filter the data using industry popular hashtags gathered. \n",
        "df1=df[df['Text'].str.contains(r'#biotech|#ehealth|#onmedic|#healthcare|#supermarket|#grocery|#consumer|#beer|#sanitizer|#facemask|#tech|#science|#aviation|#flights|#airport|#travel|#hotels|#quarantine|#transport|#stock|#Stockmarket|#investing|#finance|#communication|#Networking|#workfromhome')]"
      ],
      "execution_count": null,
      "outputs": []
    },
    {
      "cell_type": "code",
      "metadata": {
        "id": "hio80oxuZ8th",
        "colab_type": "code",
        "colab": {}
      },
      "source": [
        "#Save the file data to a file\n",
        "df1.to_csv(\"/content/gdrive/My Drive/Colab Notebooks/tweets.csv\", index=None, encoding='utf-8')"
      ],
      "execution_count": null,
      "outputs": []
    },
    {
      "cell_type": "code",
      "metadata": {
        "id": "dXWUk9aTaJlo",
        "colab_type": "code",
        "colab": {}
      },
      "source": [
        "df=pd.read_csv(\"/content/gdrive/My Drive/Colab Notebooks/tweets.csv\")"
      ],
      "execution_count": null,
      "outputs": []
    },
    {
      "cell_type": "code",
      "metadata": {
        "id": "k8kG6oxmIfSI",
        "colab_type": "code",
        "colab": {
          "base_uri": "https://localhost:8080/",
          "height": 35
        },
        "outputId": "dded4477-5a74-43e3-828a-71c50b36bf72"
      },
      "source": [
        "df.shape"
      ],
      "execution_count": null,
      "outputs": [
        {
          "output_type": "execute_result",
          "data": {
            "text/plain": [
              "(22056, 8)"
            ]
          },
          "metadata": {
            "tags": []
          },
          "execution_count": 6
        }
      ]
    },
    {
      "cell_type": "code",
      "metadata": {
        "id": "y31vvEPyIhiK",
        "colab_type": "code",
        "colab": {}
      },
      "source": [
        ""
      ],
      "execution_count": null,
      "outputs": []
    }
  ]
}