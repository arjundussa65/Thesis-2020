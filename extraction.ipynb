{
  "nbformat": 4,
  "nbformat_minor": 0,
  "metadata": {
    "kernelspec": {
      "display_name": "Python 3",
      "language": "python",
      "name": "python3"
    },
    "language_info": {
      "codemirror_mode": {
        "name": "ipython",
        "version": 3
      },
      "file_extension": ".py",
      "mimetype": "text/x-python",
      "name": "python",
      "nbconvert_exporter": "python",
      "pygments_lexer": "ipython3",
      "version": "3.7.4"
    },
    "colab": {
      "name": "extraction.ipynb",
      "provenance": [],
      "collapsed_sections": [],
      "include_colab_link": true
    },
    "accelerator": "GPU"
  },
  "cells": [
    {
      "cell_type": "markdown",
      "metadata": {
        "id": "view-in-github",
        "colab_type": "text"
      },
      "source": [
        "<a href=\"https://colab.research.google.com/github/arjundussa65/Thesis-2020/blob/master/extraction.ipynb\" target=\"_parent\"><img src=\"https://colab.research.google.com/assets/colab-badge.svg\" alt=\"Open In Colab\"/></a>"
      ]
    },
    {
      "cell_type": "code",
      "metadata": {
        "id": "u-0Cj_xV73sl",
        "colab_type": "code",
        "colab": {}
      },
      "source": [
        "#importing pakages\n",
        "import tweepy                       # To access twitter API\n",
        "import pandas as pd                 # to do data manipulation\n",
        "import os                           # To access os level files and folders\n",
        "import json                         # to work with json objects \n",
        "from time import gmtime, strftime   # To change time format, datatime related manipulations"
      ],
      "execution_count": null,
      "outputs": []
    },
    {
      "cell_type": "code",
      "metadata": {
        "id": "gF7Z0Ss-8Fsl",
        "colab_type": "code",
        "colab": {
          "base_uri": "https://localhost:8080/",
          "height": 124
        },
        "outputId": "a18134f4-9526-4320-b0a3-e7359c956d89"
      },
      "source": [
        "#Mount google drive for colab usage\n",
        "from google.colab import drive\n",
        "drive.mount('/content/gdrive')"
      ],
      "execution_count": null,
      "outputs": [
        {
          "output_type": "stream",
          "text": [
            "Go to this URL in a browser: https://accounts.google.com/o/oauth2/auth?client_id=947318989803-6bn6qk8qdgf4n4g3pfee6491hc0brc4i.apps.googleusercontent.com&redirect_uri=urn%3aietf%3awg%3aoauth%3a2.0%3aoob&response_type=code&scope=email%20https%3a%2f%2fwww.googleapis.com%2fauth%2fdocs.test%20https%3a%2f%2fwww.googleapis.com%2fauth%2fdrive%20https%3a%2f%2fwww.googleapis.com%2fauth%2fdrive.photos.readonly%20https%3a%2f%2fwww.googleapis.com%2fauth%2fpeopleapi.readonly\n",
            "\n",
            "Enter your authorization code:\n",
            "··········\n",
            "Mounted at /content/gdrive\n"
          ],
          "name": "stdout"
        }
      ]
    },
    {
      "cell_type": "code",
      "metadata": {
        "id": "QiQdDvcfJDdq",
        "colab_type": "code",
        "colab": {
          "base_uri": "https://localhost:8080/",
          "height": 228
        },
        "outputId": "964fd6a9-d0b7-45eb-94e6-0c988f4e2daf"
      },
      "source": [
        "#Install library to scrape twitter data\n",
        "!pip install GetOldTweets3"
      ],
      "execution_count": null,
      "outputs": [
        {
          "output_type": "stream",
          "text": [
            "Collecting GetOldTweets3\n",
            "  Downloading https://files.pythonhosted.org/packages/ed/f4/a00c2a7c90801abc875325bb5416ce9090ac86d06a00cc887131bd73ba45/GetOldTweets3-0.0.11-py3-none-any.whl\n",
            "Requirement already satisfied: lxml>=3.5.0 in /usr/local/lib/python3.6/dist-packages (from GetOldTweets3) (4.2.6)\n",
            "\u001b[33mWARNING: Retrying (Retry(total=4, connect=None, read=None, redirect=None, status=None)) after connection broken by 'ProtocolError('Connection aborted.', ConnectionResetError(104, 'Connection reset by peer'))': /simple/pyquery/\u001b[0m\n",
            "Collecting pyquery>=1.2.10\n",
            "\u001b[33m  WARNING: Retrying (Retry(total=4, connect=None, read=None, redirect=None, status=None)) after connection broken by 'ProtocolError('Connection aborted.', ConnectionResetError(104, 'Connection reset by peer'))': /packages/78/43/95d42e386c61cb639d1a0b94f0c0b9f0b7d6b981ad3c043a836c8b5bc68b/pyquery-1.4.1-py2.py3-none-any.whl\u001b[0m\n",
            "  Downloading https://files.pythonhosted.org/packages/78/43/95d42e386c61cb639d1a0b94f0c0b9f0b7d6b981ad3c043a836c8b5bc68b/pyquery-1.4.1-py2.py3-none-any.whl\n",
            "Collecting cssselect>0.7.9\n",
            "  Downloading https://files.pythonhosted.org/packages/3b/d4/3b5c17f00cce85b9a1e6f91096e1cc8e8ede2e1be8e96b87ce1ed09e92c5/cssselect-1.1.0-py2.py3-none-any.whl\n",
            "Installing collected packages: cssselect, pyquery, GetOldTweets3\n",
            "Successfully installed GetOldTweets3-0.0.11 cssselect-1.1.0 pyquery-1.4.1\n"
          ],
          "name": "stdout"
        }
      ]
    },
    {
      "cell_type": "code",
      "metadata": {
        "id": "kP9jokmQiBeH",
        "colab_type": "code",
        "colab": {}
      },
      "source": [
        "# Importing GetOldTweets3\n",
        "import GetOldTweets3 as got\n",
        "# Importing pandas\n",
        "import pandas as pd\n",
        "\n",
        "def get_tweets(hash, top_only, start_date, end_date, max_tweets):\n",
        "   \n",
        "    # specifying tweet search criteria \n",
        "    tweetCriteria = got.manager.TweetCriteria().setQuerySearch(hash)\\\n",
        "                          .setLang('en')\\\n",
        "                          .setTopTweets(top_only)\\\n",
        "                          .setSince(start_date)\\\n",
        "                          .setUntil(end_date)\\\n",
        "                          .setMaxTweets(max_tweets)\n",
        "    \n",
        "    # scraping tweets based on criteria\n",
        "    tweet = got.manager.TweetManager.getTweets(tweetCriteria)\n",
        "    \n",
        "    # creating list of tweets with the tweet attributes \n",
        "    # specified in the list comprehension\n",
        "    text_tweets = [[tw.username,\n",
        "                tw.text,\n",
        "                tw.date,\n",
        "                tw.retweets,\n",
        "                tw.favorites,\n",
        "                tw.mentions,\n",
        "                tw.hashtags] for tw in tweet]\n",
        "    \n",
        "    # creating dataframe, assigning column names to list of\n",
        "    # tweets corresponding to tweet attributes\n",
        "    news_df = pd.DataFrame(text_tweets, \n",
        "                            columns = ['User', 'Text','Date',      'Favorites', 'Retweets', 'Mentions', 'HashTags'])\n",
        "    \n",
        "    return news_df"
      ],
      "execution_count": null,
      "outputs": []
    },
    {
      "cell_type": "code",
      "metadata": {
        "id": "Tvmtv7_QASpy",
        "colab_type": "code",
        "colab": {
          "base_uri": "https://localhost:8080/",
          "height": 289
        },
        "outputId": "0f3fc1ce-ce43-48c7-b8cd-f29d8bcfb81c"
      },
      "source": [
        "# Defining news sources I want to include\n",
        "hashtag = [\"#COVID19\"]\n",
        "start=['2020-03-01','2020-03-02','2020-03-03']\n",
        "end=['2020-03-02','2020-03-03','2020-03-04']\n",
        "\n",
        "# getting tweets from the defined new sources, \n",
        "# only including top tweets, \n",
        "# looking at the past week with the end_date not inclusive,\n",
        "# and specifying that we want a max number of tweets = 100.\n",
        "# also sorting the tweets by date, descending.\n",
        "df=pd.DataFrame()\n",
        "for hash in hashtag:\n",
        "  for a,b in zip(start,end): \n",
        "    df = df.append(get_tweets(hash, \n",
        "                     top_only = False,\n",
        "                     start_date = a, \n",
        "                     end_date = b,\n",
        "                    max_tweets = 1000).sort_values('Date',ascending=False))\n",
        "df.head()"
      ],
      "execution_count": null,
      "outputs": [
        {
          "output_type": "execute_result",
          "data": {
            "text/html": [
              "<div>\n",
              "<style scoped>\n",
              "    .dataframe tbody tr th:only-of-type {\n",
              "        vertical-align: middle;\n",
              "    }\n",
              "\n",
              "    .dataframe tbody tr th {\n",
              "        vertical-align: top;\n",
              "    }\n",
              "\n",
              "    .dataframe thead th {\n",
              "        text-align: right;\n",
              "    }\n",
              "</style>\n",
              "<table border=\"1\" class=\"dataframe\">\n",
              "  <thead>\n",
              "    <tr style=\"text-align: right;\">\n",
              "      <th></th>\n",
              "      <th>User</th>\n",
              "      <th>Text</th>\n",
              "      <th>Date</th>\n",
              "      <th>Favorites</th>\n",
              "      <th>Retweets</th>\n",
              "      <th>Mentions</th>\n",
              "      <th>HashTags</th>\n",
              "    </tr>\n",
              "  </thead>\n",
              "  <tbody>\n",
              "    <tr>\n",
              "      <th>0</th>\n",
              "      <td>nushyrose</td>\n",
              "      <td>https://parlia.com/c/gdkwzJBdgWGJHnvdnhpHZPgDl...</td>\n",
              "      <td>2020-03-01 23:59:51+00:00</td>\n",
              "      <td>0</td>\n",
              "      <td>0</td>\n",
              "      <td></td>\n",
              "      <td>#COVID19</td>\n",
              "    </tr>\n",
              "    <tr>\n",
              "      <th>1</th>\n",
              "      <td>NightwatchCapt4</td>\n",
              "      <td>Shameful @Airbnb does not consider #COVID19 an...</td>\n",
              "      <td>2020-03-01 23:59:49+00:00</td>\n",
              "      <td>0</td>\n",
              "      <td>2</td>\n",
              "      <td>@Airbnb @CDCgov</td>\n",
              "      <td>#COVID19</td>\n",
              "    </tr>\n",
              "    <tr>\n",
              "      <th>2</th>\n",
              "      <td>gojomo</td>\n",
              "      <td>approximately as effective for #COVID19 as for...</td>\n",
              "      <td>2020-03-01 23:59:45+00:00</td>\n",
              "      <td>0</td>\n",
              "      <td>0</td>\n",
              "      <td></td>\n",
              "      <td>#COVID19</td>\n",
              "    </tr>\n",
              "    <tr>\n",
              "      <th>3</th>\n",
              "      <td>hapennyplace</td>\n",
              "      <td>Can we all just not send the kids to school fo...</td>\n",
              "      <td>2020-03-01 23:59:42+00:00</td>\n",
              "      <td>0</td>\n",
              "      <td>2</td>\n",
              "      <td>@HSELive</td>\n",
              "      <td>#Coronavirusireland #COVID19</td>\n",
              "    </tr>\n",
              "    <tr>\n",
              "      <th>4</th>\n",
              "      <td>nogenderid</td>\n",
              "      <td>It's been reported that Ontario has begun surv...</td>\n",
              "      <td>2020-03-01 23:59:42+00:00</td>\n",
              "      <td>0</td>\n",
              "      <td>3</td>\n",
              "      <td></td>\n",
              "      <td>#coronavirus #covid19</td>\n",
              "    </tr>\n",
              "  </tbody>\n",
              "</table>\n",
              "</div>"
            ],
            "text/plain": [
              "              User  ...                      HashTags\n",
              "0        nushyrose  ...                      #COVID19\n",
              "1  NightwatchCapt4  ...                      #COVID19\n",
              "2           gojomo  ...                      #COVID19\n",
              "3     hapennyplace  ...  #Coronavirusireland #COVID19\n",
              "4       nogenderid  ...         #coronavirus #covid19\n",
              "\n",
              "[5 rows x 7 columns]"
            ]
          },
          "metadata": {
            "tags": []
          },
          "execution_count": 111
        }
      ]
    },
    {
      "cell_type": "code",
      "metadata": {
        "id": "iM_LqYE_Am6Q",
        "colab_type": "code",
        "colab": {
          "base_uri": "https://localhost:8080/",
          "height": 35
        },
        "outputId": "cdf613b8-057d-480f-c21f-2123867ca8ef"
      },
      "source": [
        "len(df)"
      ],
      "execution_count": null,
      "outputs": [
        {
          "output_type": "execute_result",
          "data": {
            "text/plain": [
              "3000"
            ]
          },
          "metadata": {
            "tags": []
          },
          "execution_count": 112
        }
      ]
    },
    {
      "cell_type": "code",
      "metadata": {
        "id": "BxNi2ofEAq0W",
        "colab_type": "code",
        "colab": {}
      },
      "source": [
        "df.to_csv(\"/content/gdrive/My Drive/Colab Notebooks/abc1.csv\", index=None, encoding='utf-8')"
      ],
      "execution_count": null,
      "outputs": []
    },
    {
      "cell_type": "code",
      "metadata": {
        "id": "XVLnSZreji8E",
        "colab_type": "code",
        "colab": {}
      },
      "source": [
        "import time\n",
        "\n",
        "hashtag = [\"#StayHome\",\"#coronavirus\",\"#pandemic\",\"#lockdown\",\"#COVID-19\"]\n",
        "x=pd.date_range(start='03/01/2020', periods=10)\n",
        "y=pd.date_range(start='03/02/2020', periods=10)\n",
        "start=pd.Series(x.format()).tolist()\n",
        "end=pd.Series(y.format()).tolist()\n",
        "\n",
        "# getting tweets from the defined new sources, \n",
        "# only including top tweets, \n",
        "# looking at the past week with the end_date not inclusive,\n",
        "# and specifying that we want a max number of tweets = 100.\n",
        "# also sorting the tweets by date, descending.\n",
        "df1=pd.DataFrame()\n",
        "df2=pd.DataFrame()\n",
        "df3=pd.DataFrame()\n",
        "for hash in hashtag:\n",
        "  for a,b in zip(start,end): \n",
        "    df1 = df1.append(get_tweets(hash, \n",
        "                     top_only = False,\n",
        "                     start_date = a, \n",
        "                     end_date = b,\n",
        "                    max_tweets = 1000).sort_values('Date',ascending=False))\n",
        "  time.sleep(900)\n",
        "time.sleep(900)\n",
        "x=pd.date_range(start='03/11/2020', periods=10)\n",
        "y=pd.date_range(start='03/12/2020', periods=10)\n",
        "start=pd.Series(x.format()).tolist()\n",
        "end=pd.Series(y.format()).tolist()\n",
        "for hash in hashtag:\n",
        "  for a,b in zip(start,end): \n",
        "    df2 = df2.append(get_tweets(hash, \n",
        "                     top_only = False,\n",
        "                     start_date = a, \n",
        "                     end_date = b,\n",
        "                    max_tweets = 1000).sort_values('Date',ascending=False))\n",
        "  time.sleep(900)\n",
        "time.sleep(900)\n",
        "x=pd.date_range(start='03/21/2020', periods=10)\n",
        "y=pd.date_range(start='03/22/2020', periods=10)\n",
        "start=pd.Series(x.format()).tolist()\n",
        "end=pd.Series(y.format()).tolist()\n",
        "for hash in hashtag:\n",
        "  for a,b in zip(start,end): \n",
        "    df3 = df3.append(get_tweets(hash, \n",
        "                     top_only = False,\n",
        "                     start_date = a, \n",
        "                     end_date = b,\n",
        "                    max_tweets = 1000).sort_values('Date',ascending=False))\n",
        "  time.sleep(900)\n",
        "    \n",
        "df=pd.concat([df1,df2,df3])\n",
        "df.to_csv(\"/content/gdrive/My Drive/Colab Notebooks/test1.csv\", index=None, encoding='utf-8')"
      ],
      "execution_count": null,
      "outputs": []
    },
    {
      "cell_type": "code",
      "metadata": {
        "id": "QdlR26DVmL-e",
        "colab_type": "code",
        "colab": {}
      },
      "source": [
        "df=pd.concat([df1,df2,df3])\n",
        "df.to_csv(\"/content/gdrive/My Drive/Colab Notebooks/test.csv\", index=None, encoding='utf-8')"
      ],
      "execution_count": null,
      "outputs": []
    },
    {
      "cell_type": "code",
      "metadata": {
        "id": "CHbM19p0CRQB",
        "colab_type": "code",
        "colab": {}
      },
      "source": [
        "import time\n",
        "hashtag = [\"#coronavirus\",\"#pandemic\",\"#lockdown\",\"#COVID-19\"]\n",
        "x=pd.date_range(start='03/01/2020', periods=30)\n",
        "y=pd.date_range(start='03/02/2020', periods=30)\n",
        "start=pd.Series(x.format()).tolist()\n",
        "end=pd.Series(y.format()).tolist()\n",
        "\n",
        "# getting tweets from the defined new sources, \n",
        "# only including top tweets, \n",
        "# looking at the past week with the end_date not inclusive,\n",
        "# and specifying that we want a max number of tweets = 100.\n",
        "# also sorting the tweets by date, descending.\n",
        "df1=pd.DataFrame()\n",
        "\n",
        "\n",
        "for hash in hashtag:\n",
        "  for a,b in zip(start,end): \n",
        "    df1 = df1.append(get_tweets(hash, \n",
        "                     top_only = False,\n",
        "                     start_date = a, \n",
        "                     end_date = b,\n",
        "                    max_tweets = 1000).sort_values('Date',ascending=False))\n",
        "    time.sleep(30)\n",
        "\n",
        "df1.to_csv(\"/content/gdrive/My Drive/Colab Notebooks/test1.csv\", index=None, encoding='utf-8')"
      ],
      "execution_count": null,
      "outputs": []
    },
    {
      "cell_type": "code",
      "metadata": {
        "id": "ysGc1kvzCT5i",
        "colab_type": "code",
        "colab": {
          "base_uri": "https://localhost:8080/",
          "height": 35
        },
        "outputId": "68c95ee4-debd-4b15-dba2-94530f3ecd6e"
      },
      "source": [
        "len(df1)"
      ],
      "execution_count": null,
      "outputs": [
        {
          "output_type": "execute_result",
          "data": {
            "text/plain": [
              "19760"
            ]
          },
          "metadata": {
            "tags": []
          },
          "execution_count": 11
        }
      ]
    },
    {
      "cell_type": "code",
      "metadata": {
        "id": "-0NVOMAj1qX3",
        "colab_type": "code",
        "colab": {}
      },
      "source": [
        "df1.to_csv(\"/content/gdrive/My Drive/Colab Notebooks/stayhome.csv\", index=None, encoding='utf-8')"
      ],
      "execution_count": null,
      "outputs": []
    },
    {
      "cell_type": "code",
      "metadata": {
        "id": "fUrPFEFLC-xe",
        "colab_type": "code",
        "colab": {
          "base_uri": "https://localhost:8080/",
          "height": 35
        },
        "outputId": "365d8b0b-0979-41d8-b608-13237f29c025"
      },
      "source": [
        "import datetime\n",
        "datetime.datetime.now()"
      ],
      "execution_count": null,
      "outputs": [
        {
          "output_type": "execute_result",
          "data": {
            "text/plain": [
              "datetime.datetime(2020, 7, 8, 10, 55, 43, 508312)"
            ]
          },
          "metadata": {
            "tags": []
          },
          "execution_count": 19
        }
      ]
    },
    {
      "cell_type": "code",
      "metadata": {
        "id": "uUQHJDTPD2e3",
        "colab_type": "code",
        "colab": {}
      },
      "source": [
        ""
      ],
      "execution_count": null,
      "outputs": []
    }
  ]
}